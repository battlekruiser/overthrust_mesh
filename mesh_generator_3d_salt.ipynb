{
 "cells": [
  {
   "cell_type": "code",
   "execution_count": 1,
   "metadata": {},
   "outputs": [],
   "source": [
    "import numpy as np\n",
    "import matplotlib.pyplot as plt #debug\n",
    "from scipy import interpolate\n"
   ]
  },
  {
   "cell_type": "code",
   "execution_count": 2,
   "metadata": {},
   "outputs": [],
   "source": [
    "def triangle_weight(Nx, begin=None, end=None, peak=None):\n",
    "    if(begin == None):\n",
    "        begin = 0\n",
    "    if(end   == None):\n",
    "        end   = Nx\n",
    "    if(peak  == None):\n",
    "        peak  = int((end+begin)/2)\n",
    "    if(peak < begin or peak > end):\n",
    "        raise ValueError(\"Peak outside triangle bounds\")\n",
    "    if(begin >= end):\n",
    "        raise ValueError(\"Incorrect bounds order: begin >= end\")\n",
    "    triangle = np.hstack((np.zeros(begin),\n",
    "                          np.linspace(0,1,peak-begin, endpoint=False),\n",
    "                          np.linspace(1,0,end-peak),\n",
    "                          np.zeros(Nx-end)))\n",
    "    return triangle\n"
   ]
  },
  {
   "cell_type": "code",
   "execution_count": 3,
   "metadata": {},
   "outputs": [],
   "source": [
    "def asym_triangle(Nx, begin=None, end=None, peak=None):\n",
    "    if(begin == None):\n",
    "        begin = 0\n",
    "    if(end   == None):\n",
    "        end   = Nx\n",
    "    if(peak  == None):\n",
    "        peak  = int((end+begin)/2)\n",
    "    triangle = triangle_weight(Nx, begin=begin, end=end, peak=peak-1)\n",
    "    triangle[peak:] = np.hstack((0,-triangle[peak:-1]))\n",
    "    return triangle"
   ]
  },
  {
   "cell_type": "code",
   "execution_count": 4,
   "metadata": {},
   "outputs": [
    {
     "name": "stdout",
     "output_type": "stream",
     "text": [
      "448.7007\n",
      "683.9578777522539\n",
      "1128.0434\n"
     ]
    }
   ],
   "source": [
    "N_file = 321\n",
    "model1_X = np.reshape(np.fromfile(\"model_2-X.txt\", sep=' '), (N_file,N_file)) #read data from file and convert it to 2d array\n",
    "model1_Y = np.reshape(np.fromfile(\"model_2-Y.txt\", sep=' '), (N_file,N_file))\n",
    "model1_Z = np.reshape(np.fromfile(\"model_2-Z.txt\", sep=' '), (N_file,N_file))\n",
    "\n",
    "print(np.amin(model1_Z))\n",
    "print(model1_Z.mean())\n",
    "print(np.amax(model1_Z))\n"
   ]
  },
  {
   "cell_type": "code",
   "execution_count": 7,
   "metadata": {},
   "outputs": [],
   "source": [
    "# mesh size\n",
    "#(Nx,Ny,Nz) = (161,161,61)\n",
    "(Nx,Ny,Nz) = (51,51,51)\n",
    "#mesh SIZE\n",
    "Lxy = 8000\n",
    "Lz_rock  = 2000\n",
    "Lz = Lz_rock+model1_Z.mean()\n",
    "\n",
    "#boundaries of the curved region\n",
    "z_start = 0\n",
    "z_stop  = Nz\n",
    "\n",
    "#ocean floor\n",
    "k_border = round(Nz * model1_Z.mean() / Lz )"
   ]
  },
  {
   "cell_type": "code",
   "execution_count": 8,
   "metadata": {},
   "outputs": [],
   "source": [
    "#generate an empty array for vertices\n",
    "vertices = np.zeros((Nx,Ny,Nz,3))\n",
    "\n",
    "#generate xy values\n",
    "x = np.linspace(0,1,Nx)\n",
    "y = np.linspace(0,1,Ny)\n",
    "z = np.linspace(0,1,Nz)\n",
    "\n",
    "x = x * Lxy - Lxy / 2\n",
    "y = y * Lxy - Lxy / 2\n",
    "z = z * Lz\n",
    "\n",
    "#populate with rect mesh\n",
    "for k in range(0,Nz):\n",
    "    for j in range(0,Ny):\n",
    "        for i in range(0,Nx):\n",
    "            vertices[i,j,k,:] = (x[i], y[j], z[k])\n"
   ]
  },
  {
   "cell_type": "code",
   "execution_count": 9,
   "metadata": {},
   "outputs": [
    {
     "name": "stdout",
     "output_type": "stream",
     "text": [
      "0\n",
      "1\n",
      "2\n",
      "3\n",
      "4\n",
      "5\n",
      "6\n",
      "7\n",
      "8\n",
      "9\n",
      "10\n",
      "11\n",
      "12\n",
      "13\n",
      "14\n",
      "15\n",
      "16\n",
      "17\n",
      "18\n",
      "19\n",
      "20\n",
      "21\n",
      "22\n",
      "23\n",
      "24\n",
      "25\n",
      "26\n",
      "27\n",
      "28\n",
      "29\n",
      "30\n",
      "31\n",
      "32\n",
      "33\n",
      "34\n",
      "35\n",
      "36\n",
      "37\n"
     ]
    }
   ],
   "source": [
    "ot_file = \"Saltf@@\"\n",
    "(ot_Nx,ot_Ny,ot_Nz)=(676,676,210)\n",
    "\n",
    "ot_x = np.linspace(-Lxy/2,Lxy/2,ot_Nx)\n",
    "ot_y = np.linspace(-Lxy/2,Lxy/2,ot_Ny)\n",
    "ot_z = np.linspace(0,Lz_rock,ot_Nz)\n",
    "\n",
    "ot_c=np.reshape(np.fromfile(ot_file,dtype='>f4'),(ot_Nz,ot_Ny,ot_Nx))\n",
    "f_ot_c=interpolate.RegularGridInterpolator((ot_z,ot_y,ot_x),ot_c)\n",
    "interp_ot_c = np.empty((Nz-k_border,Ny,Nx))\n",
    "for k in range(0,Nz-k_border):\n",
    "    print(k)\n",
    "    for j in range(0,Ny):\n",
    "        for i in range(0,Nx):\n",
    "            interp_ot_c[k,j,i] = f_ot_c((z[k], y[j], x[i]))"
   ]
  },
  {
   "cell_type": "code",
   "execution_count": 10,
   "metadata": {
    "scrolled": false
   },
   "outputs": [],
   "source": [
    "#plt.figure(figsize=(16,8))\n",
    "#plt.imshow(ot_c[:,-1,:])"
   ]
  },
  {
   "cell_type": "code",
   "execution_count": 11,
   "metadata": {
    "scrolled": true
   },
   "outputs": [],
   "source": [
    "#plt.figure(figsize=(16,8))\n",
    "#plt.imshow(interp_ot_c[:,-1,:])"
   ]
  },
  {
   "cell_type": "code",
   "execution_count": 12,
   "metadata": {},
   "outputs": [],
   "source": [
    "f_dz = interpolate.interp2d(model1_X[0,1:-3], model1_Y[1:-3,0], model1_Z[1:-3,1:-3])\n",
    "\n",
    "#calculate offsets\n",
    "#xygrid = np.transpose(np.array(np.meshgrid(x,y)), (2,1,0)) #iirc this makes a 2d array of (x,y) pairs\n",
    "#dz = f(xygrid[:,:,0], xygrid[:,:,1], 0.7)/2 #feed that array into the bulge function\n",
    "interp_dz = f_dz(x, y)  #interpolate heightmap to target mesh size\n",
    "dz_mean = np.mean(interp_dz)\n",
    "#k_border = np.array(np.where(z < dz_mean)).flatten()[-1] #closest* mesh z-plane to dz_mean\n",
    "#print(k_border)\n",
    "interp_dz -= z[k_border]\n",
    "weights = triangle_weight(Nz, z_start, z_stop, k_border)\n",
    "#weights_condense = asym_triangle(Nz, z_start, z_stop, k_border)\n",
    "weights_condense = 1-weights\n",
    "#weights_condense[[0,-1]] = 0\n",
    "weights_condense[k_border:] = -weights_condense[k_border:]\n",
    "weights_condense = (np.abs(weights_condense)**4)*np.sign(weights_condense)\n",
    "\n",
    "#print(weights)"
   ]
  },
  {
   "cell_type": "code",
   "execution_count": 13,
   "metadata": {},
   "outputs": [
    {
     "data": {
      "text/plain": [
       "[<matplotlib.lines.Line2D at 0x7f6eba752828>]"
      ]
     },
     "execution_count": 13,
     "metadata": {},
     "output_type": "execute_result"
    },
    {
     "data": {
      "image/png": "[encoded data removed]",
      "text/plain": [
       "<Figure size 432x288 with 1 Axes>"
      ]
     },
     "metadata": {},
     "output_type": "display_data"
    }
   ],
   "source": [
    "plt.plot(weights_condense)"
   ]
  },
  {
   "cell_type": "code",
   "execution_count": 14,
   "metadata": {
    "scrolled": false
   },
   "outputs": [],
   "source": [
    "#plt.imshow(model1_Z)"
   ]
  },
  {
   "cell_type": "code",
   "execution_count": 15,
   "metadata": {
    "scrolled": true
   },
   "outputs": [
    {
     "name": "stdout",
     "output_type": "stream",
     "text": [
      "214.7166302201803\n"
     ]
    },
    {
     "data": {
      "text/plain": [
       "[<matplotlib.lines.Line2D at 0x7f6eba614b70>]"
      ]
     },
     "execution_count": 15,
     "metadata": {},
     "output_type": "execute_result"
    },
    {
     "data": {
      "image/png": "[encoded data removed]",
      "text/plain": [
       "<Figure size 1080x288 with 2 Axes>"
      ]
     },
     "metadata": {},
     "output_type": "display_data"
    }
   ],
   "source": [
    "delta_z=(Lz/(Nz-1))*4\n",
    "print(delta_z)\n",
    "condense_dz = delta_z*weights_condense - delta_z\n",
    "unshrink_coef = Lz/(Lz-2*delta_z)\n",
    "condense_dz = (z+condense_dz)*unshrink_coef-z\n",
    "condense_dz -= weights*condense_dz[k_border]\n",
    "ax = plt.figure(figsize=(15,4)).subplots(1,2)\n",
    "ax[0].plot(condense_dz)\n",
    "ax[1].plot((z-condense_dz))"
   ]
  },
  {
   "cell_type": "code",
   "execution_count": 16,
   "metadata": {},
   "outputs": [],
   "source": [
    "#apply offsets\n",
    "for k in range(0,Nz):\n",
    "    vertices[:,:,k,2] += (interp_dz*weights[k] - condense_dz[k])\n",
    "#todo: make condense offset and curve offset aware of each other or act one after another or something. \n",
    "#Right now they can sometimes clip through each other and result in negative cell height."
   ]
  },
  {
   "cell_type": "code",
   "execution_count": 17,
   "metadata": {},
   "outputs": [],
   "source": [
    "cell_heights = vertices[:,:,1:,2]-vertices[:,:,:-1,2]"
   ]
  },
  {
   "cell_type": "code",
   "execution_count": 18,
   "metadata": {},
   "outputs": [
    {
     "data": {
      "text/plain": [
       "14.976833179364064"
      ]
     },
     "execution_count": 18,
     "metadata": {},
     "output_type": "execute_result"
    }
   ],
   "source": [
    "np.amin(cell_heights)"
   ]
  },
  {
   "cell_type": "code",
   "execution_count": 23,
   "metadata": {},
   "outputs": [
    {
     "name": "stdout",
     "output_type": "stream",
     "text": [
      "0\n",
      "1\n",
      "2\n",
      "3\n",
      "4\n",
      "5\n",
      "6\n",
      "7\n",
      "8\n",
      "9\n",
      "10\n",
      "11\n",
      "12\n",
      "13\n",
      "14\n",
      "15\n",
      "16\n",
      "17\n",
      "18\n",
      "19\n",
      "20\n",
      "21\n",
      "22\n",
      "23\n",
      "24\n",
      "25\n",
      "26\n",
      "27\n",
      "28\n",
      "29\n",
      "30\n",
      "31\n",
      "32\n",
      "33\n",
      "34\n",
      "35\n",
      "36\n",
      "37\n",
      "38\n",
      "39\n",
      "40\n",
      "41\n",
      "42\n",
      "43\n",
      "44\n",
      "45\n",
      "46\n",
      "47\n",
      "48\n",
      "49\n"
     ]
    }
   ],
   "source": [
    "\n",
    "N_NODES = Nx*Ny*Nz\n",
    "N_CELLS = (Nx-1)*(Ny-1)*(Nz-1)\n",
    "\n",
    "with open('salt_index.vtk', 'w') as f:\n",
    "    # write header\n",
    "    f.write('# vtk DataFile Version 3.0\\n')\n",
    "    f.write('Generated by mfem-seismo\\n')\n",
    "    f.write('ASCII\\n')\n",
    "    f.write('DATASET UNSTRUCTURED_GRID\\n')\n",
    "    \n",
    "    # write point coordinates\n",
    "    f.write(' '.join(['POINTS', str(N_NODES), 'double\\n']))\n",
    "    #for k in range(Nz-1, -1, -1):\n",
    "    for k in range(0, Nz):\n",
    "        for j in range(0, Ny):\n",
    "            for i in range(0, Nx):\n",
    "                f.write(' '.join([str(vertices[i][j][k][0]), str(vertices[i][j][k][1]), str(vertices[i][j][k][2]), '\\n']))\n",
    "                \n",
    "    #fill cell vertices\n",
    "    f.write(' '.join(['CELLS', str(N_CELLS), str(9 * N_CELLS), '\\n']))\n",
    "    Nx -= 1\n",
    "    Ny -= 1\n",
    "    Nz -= 1\n",
    "    for i in range(Nz):\n",
    "        for j in range(Ny):\n",
    "            for k in range(Nx):\n",
    "                f.write(' '.join(['8', str((Nx+1)*(Ny+1)*i+j*(Nx+1)+k), str((Nx+1)*(Ny+1)*i+j*(Nx+1)+k+1), # 8 means num_of_nodes_per_cell\n",
    "                    str((Nx+1)*(Ny+1)*i+(j+1)*(Nx+1)+k+1), str(((Nx+1)*(Ny+1)*i+(j+1)*(Nx+1)+k)),\n",
    "                    str((Nx+1)*(Ny+1)*(i+1)+j*(Nx+1)+k), str((Nx+1)*(Ny+1)*(i+1)+j*(Nx+1)+k+1),\n",
    "                    str((Nx+1)*(Ny+1)*(i+1)+(j+1)*(Nx+1)+k+1), str(((Nx+1)*(Ny+1)*(i+1)+(j+1)*(Nx+1)+k)),\n",
    "                    '\\n'])) #\n",
    "    \n",
    "    #fill cell types for somr reason\n",
    "    f.write(' '.join(['CELL_TYPES', str(N_CELLS), '\\n']))\n",
    "    for _ in range(N_CELLS):\n",
    "        f.write('12\\n') # magic constant for VTK_QUAD\n",
    "    \n",
    "    f.write(' '.join(['CELL_DATA', str(N_CELLS), '\\n']))\n",
    "    f.write('SCALARS index int\\n')\n",
    "    f.write('LOOKUP_TABLE default\\n')\n",
    "    \n",
    "    \n",
    "    #for _ in range(0, k_border * (Nx * Ny)):\n",
    "    #    f.write('1\\n')\n",
    "    #for _ in range(k_border * (Nx * Ny), N_CELLS):\n",
    "    #    f.write('2\\n')\n",
    "    for k in range(0, Nz):\n",
    "        print(k)\n",
    "        for j in range(0, Ny):\n",
    "            for i in range(0, Nx):\n",
    "                #f.write(''.join([str(interp_ot_c[k-k_border,j,i]) if k >= k_border else '1500','\\n']))\n",
    "                f.write(''.join([str(k*Ny*Nx+j*Nx+i+1),'\\n']))\n",
    "    \n",
    "    Nx += 1\n",
    "    Ny += 1\n",
    "    Nz += 1 #so that i don't have to restart kernel every time i rerun this block\n",
    "\n",
    "\n",
    "\n"
   ]
  },
  {
   "cell_type": "code",
   "execution_count": 28,
   "metadata": {},
   "outputs": [
    {
     "name": "stdout",
     "output_type": "stream",
     "text": [
      "0\n",
      "1\n",
      "2\n",
      "3\n",
      "4\n",
      "5\n",
      "6\n",
      "7\n",
      "8\n",
      "9\n",
      "10\n",
      "11\n",
      "12\n",
      "13\n",
      "14\n",
      "15\n",
      "16\n",
      "17\n",
      "18\n",
      "19\n",
      "20\n",
      "21\n",
      "22\n",
      "23\n",
      "24\n",
      "25\n",
      "26\n",
      "27\n",
      "28\n",
      "29\n",
      "30\n",
      "31\n",
      "32\n",
      "33\n",
      "34\n",
      "35\n",
      "36\n",
      "37\n",
      "38\n",
      "39\n",
      "40\n",
      "41\n",
      "42\n",
      "43\n",
      "44\n",
      "45\n",
      "46\n",
      "47\n",
      "48\n",
      "49\n"
     ]
    }
   ],
   "source": [
    "with open('salt_values.txt', 'w') as f:\n",
    "    Nx -= 1\n",
    "    Ny -= 1\n",
    "    Nz -= 1\n",
    "    for k in range(0, Nz):\n",
    "        print(k)\n",
    "        for j in range(0, Ny):\n",
    "            for i in range(0, Nx):\n",
    "                f.write(''.join([str(interp_ot_c[k-k_border,j,i]) if k >= k_border else '1500','\\n']))\n",
    "                #f.write(''.join([str(k*Ny*Nx+j*Nx+i+1),'\\n']))\n",
    "    Nx += 1\n",
    "    Ny += 1\n",
    "    Nz += 1 #so that i don't have to restart kernel every time i rerun this block"
   ]
  },
  {
   "cell_type": "code",
   "execution_count": null,
   "metadata": {},
   "outputs": [],
   "source": []
  }
 ],
 "metadata": {
  "kernelspec": {
   "display_name": "Python 3",
   "language": "python",
   "name": "python3"
  },
  "language_info": {
   "codemirror_mode": {
    "name": "ipython",
    "version": 3
   },
   "file_extension": ".py",
   "mimetype": "text/x-python",
   "name": "python",
   "nbconvert_exporter": "python",
   "pygments_lexer": "ipython3",
   "version": "3.6.9"
  }
 },
 "nbformat": 4,
 "nbformat_minor": 2
}
